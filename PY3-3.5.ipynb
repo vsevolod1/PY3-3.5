{
 "cells": [
  {
   "cell_type": "code",
   "execution_count": 1,
   "metadata": {
    "collapsed": true
   },
   "outputs": [],
   "source": [
    "from urllib.parse import urlencode, urlparse, urljoin\n",
    "from pprint import pprint\n",
    "import requests"
   ]
  },
  {
   "cell_type": "code",
   "execution_count": null,
   "metadata": {
    "collapsed": true
   },
   "outputs": [],
   "source": [
    "AUTHORIZE_URL = 'https://oauth.yandex.ru/authorize'\n",
    "APP_ID = '3e3c424a05ec4c7a93b9e0c2e9f7b6e7'  # Your app_id here\n",
    "\n",
    "auth_data = {\n",
    "    'response_type': 'token',\n",
    "    'client_id': APP_ID\n",
    "}\n",
    "\n",
    "print('?'.join((AUTHORIZE_URL, urlencode(auth_data))))"
   ]
  },
  {
   "cell_type": "code",
   "execution_count": 13,
   "metadata": {
    "collapsed": true
   },
   "outputs": [],
   "source": [
    "TOKEN = 'AQAAAAASdwmCAAQ-aLLvL5kPkUu5jO6N_PKx_3Q'  # Your token here"
   ]
  },
  {
   "cell_type": "code",
   "execution_count": 70,
   "metadata": {
    "collapsed": true
   },
   "outputs": [],
   "source": [
    "class YandexMetrika(object):\n",
    "    _METRIKA_STAT_URL = 'https://api-metrika.yandex.ru/stat/v1/'\n",
    "    _METRIKA_MANAGEMENT_URL = 'https://api-metrika.yandex.ru/management/v1/'\n",
    "    token = None\n",
    "\n",
    "    def __init__(self, token):\n",
    "        self.token = token\n",
    "\n",
    "    def get_header(self):\n",
    "        return {\n",
    "            'Content-Type': 'application/json',\n",
    "            'Authorization': 'OAuth {}'.format(self.token),\n",
    "            'User-Agent': 'asdasdasd'\n",
    "        }\n",
    "\n",
    "    def counter_list(self):\n",
    "        url = urljoin(self._METRIKA_MANAGEMENT_URL, 'counters')\n",
    "        headers = self.get_header()\n",
    "        response = requests.get(url, headers=headers)\n",
    "        counter_list = [c['id'] for c in response.json()['counters']]\n",
    "        return counter_list\n",
    "\n",
    "    def get_info(self, counter_id, metrics):\n",
    "        url = urljoin(self._METRIKA_STAT_URL, 'data')\n",
    "        headers = self.get_header()\n",
    "        params = {\n",
    "            'id': counter_id,\n",
    "            'metrics': metrics\n",
    "        }\n",
    "        response = requests.get(url, params, headers=headers)\n",
    "        output = int(response.json()['data'][0]['metrics'][0])\n",
    "        return output\n",
    "    \n",
    "    def get_visits(self, counter_id):\n",
    "        visits = self.get_info(counter_id, 'ym:s:visits')\n",
    "        return visits\n",
    "    \n",
    "    def get_views(self, counter_id):\n",
    "        views = self.get_info(counter_id, 'ym:pv:pageviews')\n",
    "        return views\n",
    "    \n",
    "    def get_visitors(self, counter_id):\n",
    "        visitors = self.get_info(counter_id, 'ym:pv:users')\n",
    "        return visitors"
   ]
  },
  {
   "cell_type": "code",
   "execution_count": 73,
   "metadata": {
    "collapsed": false
   },
   "outputs": [
    {
     "name": "stdout",
     "output_type": "stream",
     "text": [
      "[44430562]\n",
      "Количество посещений: 4\n",
      "Количество просмотров: 7\n",
      "Количество посетителей: 3\n"
     ]
    }
   ],
   "source": [
    "metrika = YandexMetrika(TOKEN)\n",
    "\n",
    "counters = metrika.counter_list()\n",
    "print(counters)\n",
    "\n",
    "print('Количество посещений: {}'.format(metrika.get_visits(counters[0])))\n",
    "print('Количество просмотров: {}'.format(metrika.get_views(counters[0])))\n",
    "print('Количество посетителей: {}'.format(metrika.get_visitors(counters[0])))"
   ]
  }
 ],
 "metadata": {
  "kernelspec": {
   "display_name": "Python 3",
   "language": "python",
   "name": "python3"
  },
  "language_info": {
   "codemirror_mode": {
    "name": "ipython",
    "version": 3
   },
   "file_extension": ".py",
   "mimetype": "text/x-python",
   "name": "python",
   "nbconvert_exporter": "python",
   "pygments_lexer": "ipython3",
   "version": "3.6.0"
  }
 },
 "nbformat": 4,
 "nbformat_minor": 2
}
